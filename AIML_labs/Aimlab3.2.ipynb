{
 "cells": [
  {
   "cell_type": "code",
   "execution_count": 7,
   "id": "3daa4c4d-ba6e-4e45-804e-6d417ef657f2",
   "metadata": {},
   "outputs": [],
   "source": [
    "# AIML LAB-3.2 DATASET 2\n",
    "# ATHAR SAYED R-001"
   ]
  },
  {
   "cell_type": "code",
   "execution_count": 1,
   "id": "36ea8555-c0b5-488f-bdb2-bbd4f7d5c790",
   "metadata": {},
   "outputs": [],
   "source": [
    "import pandas as pd\n",
    "import numpy as np\n",
    "import matplotlib as plt"
   ]
  },
  {
   "cell_type": "code",
   "execution_count": 3,
   "id": "6ba2b95f-c68e-4892-b6f9-e3daddfd92e3",
   "metadata": {},
   "outputs": [],
   "source": [
    "from sklearn.model_selection import train_test_split\n",
    "from sklearn.impute import SimpleImputer\n",
    "from sklearn.compose import ColumnTransformer"
   ]
  },
  {
   "cell_type": "code",
   "execution_count": 9,
   "id": "11404cd8-edea-4ac7-9306-4bbc89f9db4f",
   "metadata": {},
   "outputs": [],
   "source": [
    "df = pd.read_csv(r'C:\\Users\\sayed\\Desktop\\Practice_Dataset\\lab-3\\titanic_toy.csv')"
   ]
  },
  {
   "cell_type": "code",
   "execution_count": null,
   "id": "91a83a39-b114-4a89-9141-f5b237a186e0",
   "metadata": {},
   "outputs": [],
   "source": []
  },
  {
   "cell_type": "code",
   "execution_count": null,
   "id": "85903c7c-0f51-417b-80a2-8f7a79b72586",
   "metadata": {},
   "outputs": [],
   "source": []
  }
 ],
 "metadata": {
  "kernelspec": {
   "display_name": "Python 3 (ipykernel)",
   "language": "python",
   "name": "python3"
  },
  "language_info": {
   "codemirror_mode": {
    "name": "ipython",
    "version": 3
   },
   "file_extension": ".py",
   "mimetype": "text/x-python",
   "name": "python",
   "nbconvert_exporter": "python",
   "pygments_lexer": "ipython3",
   "version": "3.12.4"
  }
 },
 "nbformat": 4,
 "nbformat_minor": 5
}
