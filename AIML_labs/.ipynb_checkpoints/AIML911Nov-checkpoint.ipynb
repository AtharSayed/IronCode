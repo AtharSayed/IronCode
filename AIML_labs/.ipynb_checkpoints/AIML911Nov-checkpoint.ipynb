{
 "cells": [
  {
   "cell_type": "code",
   "execution_count": 28,
   "id": "5c9d131b-0f41-4ae8-9d96-725eef36488b",
   "metadata": {},
   "outputs": [
    {
     "name": "stdout",
     "output_type": "stream",
     "text": [
      "Processed file: S02_combined_output.csv\n"
     ]
    }
   ],
   "source": [
    "import pandas as pd\n",
    "import os\n",
    "\n",
    "# Define the folder path where the CSV files are stored\n",
    "folder_path = r'C:\\Users\\sayed\\Desktop\\Newfolder'  # Adjusted path to folder\n",
    "\n",
    "# Iterate through each file in the folder\n",
    "for filename in os.listdir(folder_path):\n",
    "    if filename.endswith('.csv'):  # Process only CSV files\n",
    "        file_path = os.path.join(folder_path, filename)\n",
    "        \n",
    "        # Read the CSV file\n",
    "        df = pd.read_csv(file_path)\n",
    "        \n",
    "        # Create a boolean mask where the values are \"NA \"\n",
    "        is_na = df == \"NA \"\n",
    "        \n",
    "        # Count the number of \"NA \" values in each row\n",
    "        na_count = is_na.sum(axis=1)\n",
    "        \n",
    "        # Filter out rows where exactly 3 columns have \"NA \"\n",
    "        df_filtered = df[na_count != 3]\n",
    "        \n",
    "        # Save the updated DataFrame back to CSV\n",
    "        df_filtered.to_csv(file_path, index=False)\n",
    "        \n",
    "        print(f\"Processed file: {filename}\")\n"
   ]
  },
  {
   "cell_type": "code",
   "execution_count": null,
   "id": "6bac40f2-0fd3-4701-a000-6f33f52b6c5e",
   "metadata": {},
   "outputs": [],
   "source": []
  }
 ],
 "metadata": {
  "kernelspec": {
   "display_name": "Python 3 (ipykernel)",
   "language": "python",
   "name": "python3"
  },
  "language_info": {
   "codemirror_mode": {
    "name": "ipython",
    "version": 3
   },
   "file_extension": ".py",
   "mimetype": "text/x-python",
   "name": "python",
   "nbconvert_exporter": "python",
   "pygments_lexer": "ipython3",
   "version": "3.12.4"
  }
 },
 "nbformat": 4,
 "nbformat_minor": 5
}
