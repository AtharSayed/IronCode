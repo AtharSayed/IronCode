{
 "cells": [
  {
   "cell_type": "code",
   "execution_count": 1,
   "id": "1bdb8aef-84c5-48e9-bf19-ef6ee567a8f8",
   "metadata": {},
   "outputs": [],
   "source": [
    "# 1.Use pandas features to access the files"
   ]
  },
  {
   "cell_type": "code",
   "execution_count": 3,
   "id": "72d067aa-e5ab-457a-9720-e12a9333a558",
   "metadata": {},
   "outputs": [],
   "source": [
    "import pandas as pd "
   ]
  },
  {
   "cell_type": "code",
   "execution_count": 5,
   "id": "a7d35417-abac-4c12-96d7-9c04db995fe3",
   "metadata": {},
   "outputs": [],
   "source": [
    "import pprint"
   ]
  },
  {
   "cell_type": "code",
   "execution_count": 7,
   "id": "7d7de7c6-6594-40f8-87d6-87b4153ac126",
   "metadata": {},
   "outputs": [],
   "source": [
    "# 2.Access the files in different formats – excel, csv etc."
   ]
  },
  {
   "cell_type": "code",
   "execution_count": 9,
   "id": "d871ade4-f5f8-40a0-b02a-f3fa6344e94c",
   "metadata": {},
   "outputs": [],
   "source": [
    "# 3.Print master data and data of all the participant separately"
   ]
  },
  {
   "cell_type": "code",
   "execution_count": 11,
   "id": "6ebccb02-7c50-473b-8bce-86cf1640e5aa",
   "metadata": {},
   "outputs": [],
   "source": [
    "df_cricket = pd.read_excel(r'C:\\Users\\sayed\\Desktop\\CllgeMaterls\\CllgDocs\\Cricket.xlsx')"
   ]
  },
  {
   "cell_type": "code",
   "execution_count": 13,
   "id": "9b9b5a8b-09d6-4366-b479-90cb38432ee8",
   "metadata": {},
   "outputs": [
    {
     "name": "stdout",
     "output_type": "stream",
     "text": [
      "Cricket Data\n"
     ]
    }
   ],
   "source": [
    "print(\"Cricket Data\")"
   ]
  },
  {
   "cell_type": "code",
   "execution_count": 15,
   "id": "1df0264d-ee23-4cfa-824b-afa2d4fd6138",
   "metadata": {},
   "outputs": [
    {
     "name": "stdout",
     "output_type": "stream",
     "text": [
      "     ID               NAME LOCATION        DEPT  AGE\n",
      "0  A001  HARTEJ SINGH ASSI   Mumbai       sales   23\n",
      "1  A002  BHAVESH BALDANIYA    Delhi  technology   35\n",
      "2  A005        KUNAL BHATT   Mumbai  technology   31\n",
      "3  A007   SURESH CHAUDHARY    Delhi       sales   28\n",
      "4  A009   CHIRAG CHOUDHARY     Pune       sales   40\n"
     ]
    }
   ],
   "source": [
    "print(df_cricket.head())"
   ]
  },
  {
   "cell_type": "code",
   "execution_count": 17,
   "id": "c0b1ed80-3efc-4271-8426-b8c8f749cc3a",
   "metadata": {},
   "outputs": [],
   "source": [
    "df_hockey = pd.read_excel(r'C:\\Users\\sayed\\Desktop\\CllgeMaterls\\CllgDocs\\hockey.xlsx')"
   ]
  },
  {
   "cell_type": "code",
   "execution_count": 19,
   "id": "dacefbd5-fde0-4841-8894-776089255385",
   "metadata": {},
   "outputs": [
    {
     "name": "stdout",
     "output_type": "stream",
     "text": [
      "Hockey Data\n"
     ]
    }
   ],
   "source": [
    "print(\"Hockey Data\")"
   ]
  },
  {
   "cell_type": "code",
   "execution_count": 21,
   "id": "eafaef5c-73a3-4ebd-94ca-e5aaead00342",
   "metadata": {},
   "outputs": [
    {
     "name": "stdout",
     "output_type": "stream",
     "text": [
      "     ID               NAME LOCATION        DEPT  AGE\n",
      "0  A002  BHAVESH BALDANIYA    Delhi  technology   35\n",
      "1  A003       YASH BAVISHI    Delhi  production   22\n",
      "2  A004     SHREEKARA BHAT   Indore       sales   34\n",
      "3  A005        KUNAL BHATT   Mumbai  technology   31\n",
      "4  A013        ANIKET GAMI   Indore  production   42\n"
     ]
    }
   ],
   "source": [
    "print(df_hockey.head())"
   ]
  },
  {
   "cell_type": "code",
   "execution_count": 23,
   "id": "43adf15c-c30b-42b2-9f75-19bd8b80ee39",
   "metadata": {},
   "outputs": [],
   "source": [
    "df_volleyball = pd.read_csv(r'C:\\Users\\sayed\\Desktop\\CllgeMaterls\\CllgDocs\\Volleyball.csv')"
   ]
  },
  {
   "cell_type": "code",
   "execution_count": 25,
   "id": "6725f465-b1a8-465b-8576-63f5404d6564",
   "metadata": {},
   "outputs": [
    {
     "name": "stdout",
     "output_type": "stream",
     "text": [
      "Volleyball data\n"
     ]
    }
   ],
   "source": [
    "print(\"Volleyball data\")"
   ]
  },
  {
   "cell_type": "code",
   "execution_count": 27,
   "id": "a4408d0b-f530-4e9a-90a0-4577b91d3c35",
   "metadata": {},
   "outputs": [
    {
     "name": "stdout",
     "output_type": "stream",
     "text": [
      "     ID                NAME LOCATION        DEPT  AGE\n",
      "0  A001   HARTEJ SINGH ASSI   Mumbai       sales   23\n",
      "1  A005         KUNAL BHATT   Mumbai  technology   31\n",
      "2  A007    SURESH CHAUDHARY    Delhi       sales   28\n",
      "3  A009    CHIRAG CHOUDHARY     Pune       sales   40\n",
      "4  A011  MIHIR DHANGDHARIYA   Mumbai  technology   33\n"
     ]
    }
   ],
   "source": [
    "print(df_volleyball.head())"
   ]
  },
  {
   "cell_type": "code",
   "execution_count": 29,
   "id": "24684f78-f23d-4785-b035-d6f6b36e2977",
   "metadata": {},
   "outputs": [],
   "source": [
    "df_master_data = pd.read_excel(r'C:\\Users\\sayed\\Desktop\\CllgeMaterls\\CllgDocs\\Master_data_excel.xlsx')"
   ]
  },
  {
   "cell_type": "code",
   "execution_count": 31,
   "id": "4a232209-be77-47e3-a70f-b73861ae3f3e",
   "metadata": {},
   "outputs": [
    {
     "name": "stdout",
     "output_type": "stream",
     "text": [
      "Master data\n"
     ]
    }
   ],
   "source": [
    "print(\"Master data\")"
   ]
  },
  {
   "cell_type": "code",
   "execution_count": 33,
   "id": "80037437-91c4-4294-9213-21ceb48c3952",
   "metadata": {},
   "outputs": [
    {
     "name": "stdout",
     "output_type": "stream",
     "text": [
      "     ID               NAME LOCATION        DEPT  AGE\n",
      "0  A001  HARTEJ SINGH ASSI   Mumbai       sales   23\n",
      "1  A002  BHAVESH BALDANIYA    Delhi  technology   35\n",
      "2  A003       YASH BAVISHI    Delhi  production   22\n",
      "3  A004     SHREEKARA BHAT   Indore       sales   34\n",
      "4  A005        KUNAL BHATT   Mumbai  technology   31\n"
     ]
    }
   ],
   "source": [
    "print(df_master_data.head())"
   ]
  },
  {
   "cell_type": "code",
   "execution_count": 35,
   "id": "a97a0376-8d46-4347-b3a8-470d83a90f5f",
   "metadata": {},
   "outputs": [
    {
     "ename": "SyntaxError",
     "evalue": "incomplete input (213107498.py, line 1)",
     "output_type": "error",
     "traceback": [
      "\u001b[1;36m  Cell \u001b[1;32mIn[35], line 1\u001b[1;36m\u001b[0m\n\u001b[1;33m    vol_set = set(\u001b[0m\n\u001b[1;37m                  ^\u001b[0m\n\u001b[1;31mSyntaxError\u001b[0m\u001b[1;31m:\u001b[0m incomplete input\n"
     ]
    }
   ],
   "source": [
    "vol_set = set(df_volleyball['ID'])"
   ]
  },
  {
   "cell_type": "code",
   "execution_count": null,
   "id": "cf789db6-0e7e-4616-a6d4-ca4482ec6c78",
   "metadata": {},
   "outputs": [],
   "source": []
  }
 ],
 "metadata": {
  "kernelspec": {
   "display_name": "Python 3 (ipykernel)",
   "language": "python",
   "name": "python3"
  },
  "language_info": {
   "codemirror_mode": {
    "name": "ipython",
    "version": 3
   },
   "file_extension": ".py",
   "mimetype": "text/x-python",
   "name": "python",
   "nbconvert_exporter": "python",
   "pygments_lexer": "ipython3",
   "version": "3.12.4"
  }
 },
 "nbformat": 4,
 "nbformat_minor": 5
}
