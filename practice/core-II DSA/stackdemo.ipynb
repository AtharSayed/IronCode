{
 "cells": [
  {
   "cell_type": "code",
   "execution_count": 37,
   "id": "0759f2fc",
   "metadata": {},
   "outputs": [],
   "source": [
    "news = []"
   ]
  },
  {
   "cell_type": "code",
   "execution_count": 38,
   "id": "99084ee7",
   "metadata": {},
   "outputs": [],
   "source": [
    "news.append(\"https://edition.cnn.com/\")\n",
    "news.append(\"https://edition.cnn.com/business\")\n",
    "news.append(\"https://edition.cnn.com/business/tech\")\n",
    "news.append(\"https://edition.cnn.com/2025/06/12/tech/meta-sues-explicit-deepfake-app-crushai\")"
   ]
  },
  {
   "cell_type": "code",
   "execution_count": 39,
   "id": "64fdef72",
   "metadata": {},
   "outputs": [
    {
     "data": {
      "text/plain": [
       "'https://edition.cnn.com/2025/06/12/tech/meta-sues-explicit-deepfake-app-crushai'"
      ]
     },
     "execution_count": 39,
     "metadata": {},
     "output_type": "execute_result"
    }
   ],
   "source": [
    "news.pop()"
   ]
  },
  {
   "cell_type": "code",
   "execution_count": 40,
   "id": "b91afcdf",
   "metadata": {},
   "outputs": [
    {
     "data": {
      "text/plain": [
       "'https://edition.cnn.com/business/tech'"
      ]
     },
     "execution_count": 40,
     "metadata": {},
     "output_type": "execute_result"
    }
   ],
   "source": [
    "news.pop()"
   ]
  },
  {
   "cell_type": "code",
   "execution_count": 41,
   "id": "f3c9bf92",
   "metadata": {},
   "outputs": [
    {
     "data": {
      "text/plain": [
       "'https://edition.cnn.com/business'"
      ]
     },
     "execution_count": 41,
     "metadata": {},
     "output_type": "execute_result"
    }
   ],
   "source": [
    "news.pop()\n"
   ]
  },
  {
   "cell_type": "code",
   "execution_count": 42,
   "id": "c186e27b",
   "metadata": {},
   "outputs": [
    {
     "data": {
      "text/plain": [
       "'https://edition.cnn.com/'"
      ]
     },
     "execution_count": 42,
     "metadata": {},
     "output_type": "execute_result"
    }
   ],
   "source": [
    "news.pop()"
   ]
  },
  {
   "cell_type": "code",
   "execution_count": 43,
   "id": "6d2aafef",
   "metadata": {},
   "outputs": [
    {
     "ename": "IndexError",
     "evalue": "pop from empty list",
     "output_type": "error",
     "traceback": [
      "\u001b[1;31m---------------------------------------------------------------------------\u001b[0m",
      "\u001b[1;31mIndexError\u001b[0m                                Traceback (most recent call last)",
      "Cell \u001b[1;32mIn[43], line 1\u001b[0m\n\u001b[1;32m----> 1\u001b[0m \u001b[43mnews\u001b[49m\u001b[38;5;241;43m.\u001b[39;49m\u001b[43mpop\u001b[49m\u001b[43m(\u001b[49m\u001b[43m)\u001b[49m \u001b[38;5;66;03m# Since the stack is empty \u001b[39;00m\n",
      "\u001b[1;31mIndexError\u001b[0m: pop from empty list"
     ]
    }
   ],
   "source": [
    "news.pop() # Since the stack is empty "
   ]
  },
  {
   "cell_type": "code",
   "execution_count": null,
   "id": "db03430b",
   "metadata": {},
   "outputs": [],
   "source": [
    "# Implementing stacks using dequeue\n",
    "from collections import deque\n",
    "stack = deque()"
   ]
  },
  {
   "cell_type": "code",
   "execution_count": null,
   "id": "48095fcc",
   "metadata": {},
   "outputs": [
    {
     "data": {
      "text/plain": [
       "['__add__',\n",
       " '__class__',\n",
       " '__class_getitem__',\n",
       " '__contains__',\n",
       " '__copy__',\n",
       " '__delattr__',\n",
       " '__delitem__',\n",
       " '__dir__',\n",
       " '__doc__',\n",
       " '__eq__',\n",
       " '__format__',\n",
       " '__ge__',\n",
       " '__getattribute__',\n",
       " '__getitem__',\n",
       " '__getstate__',\n",
       " '__gt__',\n",
       " '__hash__',\n",
       " '__iadd__',\n",
       " '__imul__',\n",
       " '__init__',\n",
       " '__init_subclass__',\n",
       " '__iter__',\n",
       " '__le__',\n",
       " '__len__',\n",
       " '__lt__',\n",
       " '__mul__',\n",
       " '__ne__',\n",
       " '__new__',\n",
       " '__reduce__',\n",
       " '__reduce_ex__',\n",
       " '__repr__',\n",
       " '__reversed__',\n",
       " '__rmul__',\n",
       " '__setattr__',\n",
       " '__setitem__',\n",
       " '__sizeof__',\n",
       " '__str__',\n",
       " '__subclasshook__',\n",
       " 'append',\n",
       " 'appendleft',\n",
       " 'clear',\n",
       " 'copy',\n",
       " 'count',\n",
       " 'extend',\n",
       " 'extendleft',\n",
       " 'index',\n",
       " 'insert',\n",
       " 'maxlen',\n",
       " 'pop',\n",
       " 'popleft',\n",
       " 'remove',\n",
       " 'reverse',\n",
       " 'rotate']"
      ]
     },
     "execution_count": 12,
     "metadata": {},
     "output_type": "execute_result"
    }
   ],
   "source": [
    "dir(stack) # Seeing the availabe methods "
   ]
  },
  {
   "cell_type": "code",
   "execution_count": null,
   "id": "a1ca9079",
   "metadata": {},
   "outputs": [],
   "source": [
    "stack.append(\"https://edition.cnn.com/\")\n"
   ]
  },
  {
   "cell_type": "code",
   "execution_count": null,
   "id": "1944b6ab",
   "metadata": {},
   "outputs": [
    {
     "data": {
      "text/plain": [
       "deque(['https://edition.cnn.com/'])"
      ]
     },
     "execution_count": 14,
     "metadata": {},
     "output_type": "execute_result"
    }
   ],
   "source": [
    "stack"
   ]
  },
  {
   "cell_type": "code",
   "execution_count": null,
   "id": "e176365b",
   "metadata": {},
   "outputs": [
    {
     "data": {
      "text/plain": [
       "deque(['https://edition.cnn.com/', 'https://edition.cnn.com/business'])"
      ]
     },
     "execution_count": 15,
     "metadata": {},
     "output_type": "execute_result"
    }
   ],
   "source": [
    "stack.append(\"https://edition.cnn.com/business\")\n",
    "stack"
   ]
  },
  {
   "cell_type": "code",
   "execution_count": null,
   "id": "0d9f6220",
   "metadata": {},
   "outputs": [],
   "source": [
    "stack.append(\"https://edition.cnn.com/business/tech\")"
   ]
  },
  {
   "cell_type": "code",
   "execution_count": null,
   "id": "53bce16e",
   "metadata": {},
   "outputs": [
    {
     "data": {
      "text/plain": [
       "'https://edition.cnn.com/business/tech'"
      ]
     },
     "execution_count": 17,
     "metadata": {},
     "output_type": "execute_result"
    }
   ],
   "source": [
    "stack.pop()"
   ]
  },
  {
   "cell_type": "code",
   "execution_count": null,
   "id": "3275bba9",
   "metadata": {},
   "outputs": [
    {
     "data": {
      "text/plain": [
       "deque(['https://edition.cnn.com/', 'https://edition.cnn.com/business'])"
      ]
     },
     "execution_count": 18,
     "metadata": {},
     "output_type": "execute_result"
    }
   ],
   "source": [
    "stack"
   ]
  },
  {
   "cell_type": "code",
   "execution_count": null,
   "id": "65c39ce9",
   "metadata": {},
   "outputs": [
    {
     "data": {
      "text/plain": [
       "'https://edition.cnn.com/business'"
      ]
     },
     "execution_count": 19,
     "metadata": {},
     "output_type": "execute_result"
    }
   ],
   "source": [
    "stack.pop()"
   ]
  }
 ],
 "metadata": {
  "kernelspec": {
   "display_name": "Python 3",
   "language": "python",
   "name": "python3"
  },
  "language_info": {
   "codemirror_mode": {
    "name": "ipython",
    "version": 3
   },
   "file_extension": ".py",
   "mimetype": "text/x-python",
   "name": "python",
   "nbconvert_exporter": "python",
   "pygments_lexer": "ipython3",
   "version": "3.11.3"
  }
 },
 "nbformat": 4,
 "nbformat_minor": 5
}
