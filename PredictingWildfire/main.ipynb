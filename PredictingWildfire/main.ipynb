{
 "cells": [
  {
   "cell_type": "code",
   "execution_count": 26,
   "metadata": {},
   "outputs": [],
   "source": [
    "import pandas as pd\n",
    "import numpy as np\n",
    "\n",
    "data = pd.read_csv(r\"F:\\M.Tech_CollgeMaterials\\IronCode\\PredictingWildfire\\dataset\\California Wildfire Damage.csv\")"
   ]
  },
  {
   "cell_type": "code",
   "execution_count": 27,
   "metadata": {},
   "outputs": [
    {
     "data": {
      "text/html": [
       "<div>\n",
       "<style scoped>\n",
       "    .dataframe tbody tr th:only-of-type {\n",
       "        vertical-align: middle;\n",
       "    }\n",
       "\n",
       "    .dataframe tbody tr th {\n",
       "        vertical-align: top;\n",
       "    }\n",
       "\n",
       "    .dataframe thead th {\n",
       "        text-align: right;\n",
       "    }\n",
       "</style>\n",
       "<table border=\"1\" class=\"dataframe\">\n",
       "  <thead>\n",
       "    <tr style=\"text-align: right;\">\n",
       "      <th></th>\n",
       "      <th>Incident_ID</th>\n",
       "      <th>Date</th>\n",
       "      <th>Location</th>\n",
       "      <th>Area_Burned (Acres)</th>\n",
       "      <th>Homes_Destroyed</th>\n",
       "      <th>Businesses_Destroyed</th>\n",
       "      <th>Vehicles_Damaged</th>\n",
       "      <th>Injuries</th>\n",
       "      <th>Fatalities</th>\n",
       "      <th>Estimated_Financial_Loss (Million $)</th>\n",
       "      <th>Cause</th>\n",
       "    </tr>\n",
       "  </thead>\n",
       "  <tbody>\n",
       "    <tr>\n",
       "      <th>0</th>\n",
       "      <td>INC1000</td>\n",
       "      <td>2020-11-22</td>\n",
       "      <td>Sonoma County</td>\n",
       "      <td>14048</td>\n",
       "      <td>763</td>\n",
       "      <td>474</td>\n",
       "      <td>235</td>\n",
       "      <td>70</td>\n",
       "      <td>19</td>\n",
       "      <td>2270.57</td>\n",
       "      <td>Lightning</td>\n",
       "    </tr>\n",
       "  </tbody>\n",
       "</table>\n",
       "</div>"
      ],
      "text/plain": [
       "  Incident_ID        Date       Location  Area_Burned (Acres)  \\\n",
       "0     INC1000  2020-11-22  Sonoma County                14048   \n",
       "\n",
       "   Homes_Destroyed  Businesses_Destroyed  Vehicles_Damaged  Injuries  \\\n",
       "0              763                   474               235        70   \n",
       "\n",
       "   Fatalities  Estimated_Financial_Loss (Million $)      Cause  \n",
       "0          19                               2270.57  Lightning  "
      ]
     },
     "execution_count": 27,
     "metadata": {},
     "output_type": "execute_result"
    }
   ],
   "source": [
    "data.head(1)"
   ]
  },
  {
   "cell_type": "code",
   "execution_count": 28,
   "metadata": {},
   "outputs": [],
   "source": [
    "data = data.drop(['Incident_ID'],axis=1)"
   ]
  },
  {
   "cell_type": "code",
   "execution_count": 29,
   "metadata": {},
   "outputs": [
    {
     "data": {
      "text/html": [
       "<div>\n",
       "<style scoped>\n",
       "    .dataframe tbody tr th:only-of-type {\n",
       "        vertical-align: middle;\n",
       "    }\n",
       "\n",
       "    .dataframe tbody tr th {\n",
       "        vertical-align: top;\n",
       "    }\n",
       "\n",
       "    .dataframe thead th {\n",
       "        text-align: right;\n",
       "    }\n",
       "</style>\n",
       "<table border=\"1\" class=\"dataframe\">\n",
       "  <thead>\n",
       "    <tr style=\"text-align: right;\">\n",
       "      <th></th>\n",
       "      <th>Date</th>\n",
       "      <th>Location</th>\n",
       "      <th>Area_Burned (Acres)</th>\n",
       "      <th>Homes_Destroyed</th>\n",
       "      <th>Businesses_Destroyed</th>\n",
       "      <th>Vehicles_Damaged</th>\n",
       "      <th>Injuries</th>\n",
       "      <th>Fatalities</th>\n",
       "      <th>Estimated_Financial_Loss (Million $)</th>\n",
       "      <th>Cause</th>\n",
       "    </tr>\n",
       "  </thead>\n",
       "  <tbody>\n",
       "    <tr>\n",
       "      <th>0</th>\n",
       "      <td>2020-11-22</td>\n",
       "      <td>Sonoma County</td>\n",
       "      <td>14048</td>\n",
       "      <td>763</td>\n",
       "      <td>474</td>\n",
       "      <td>235</td>\n",
       "      <td>70</td>\n",
       "      <td>19</td>\n",
       "      <td>2270.57</td>\n",
       "      <td>Lightning</td>\n",
       "    </tr>\n",
       "    <tr>\n",
       "      <th>1</th>\n",
       "      <td>2021-09-23</td>\n",
       "      <td>Sonoma County</td>\n",
       "      <td>33667</td>\n",
       "      <td>1633</td>\n",
       "      <td>4</td>\n",
       "      <td>263</td>\n",
       "      <td>100</td>\n",
       "      <td>2</td>\n",
       "      <td>1381.14</td>\n",
       "      <td>Lightning</td>\n",
       "    </tr>\n",
       "    <tr>\n",
       "      <th>2</th>\n",
       "      <td>2022-02-10</td>\n",
       "      <td>Shasta County</td>\n",
       "      <td>26394</td>\n",
       "      <td>915</td>\n",
       "      <td>291</td>\n",
       "      <td>31</td>\n",
       "      <td>50</td>\n",
       "      <td>6</td>\n",
       "      <td>2421.96</td>\n",
       "      <td>Human Activity</td>\n",
       "    </tr>\n",
       "    <tr>\n",
       "      <th>3</th>\n",
       "      <td>2021-05-17</td>\n",
       "      <td>Sonoma County</td>\n",
       "      <td>20004</td>\n",
       "      <td>1220</td>\n",
       "      <td>128</td>\n",
       "      <td>34</td>\n",
       "      <td>28</td>\n",
       "      <td>0</td>\n",
       "      <td>3964.16</td>\n",
       "      <td>Unknown</td>\n",
       "    </tr>\n",
       "    <tr>\n",
       "      <th>4</th>\n",
       "      <td>2021-09-22</td>\n",
       "      <td>Sonoma County</td>\n",
       "      <td>40320</td>\n",
       "      <td>794</td>\n",
       "      <td>469</td>\n",
       "      <td>147</td>\n",
       "      <td>0</td>\n",
       "      <td>15</td>\n",
       "      <td>1800.09</td>\n",
       "      <td>Unknown</td>\n",
       "    </tr>\n",
       "  </tbody>\n",
       "</table>\n",
       "</div>"
      ],
      "text/plain": [
       "         Date       Location  Area_Burned (Acres)  Homes_Destroyed  \\\n",
       "0  2020-11-22  Sonoma County                14048              763   \n",
       "1  2021-09-23  Sonoma County                33667             1633   \n",
       "2  2022-02-10  Shasta County                26394              915   \n",
       "3  2021-05-17  Sonoma County                20004             1220   \n",
       "4  2021-09-22  Sonoma County                40320              794   \n",
       "\n",
       "   Businesses_Destroyed  Vehicles_Damaged  Injuries  Fatalities  \\\n",
       "0                   474               235        70          19   \n",
       "1                     4               263       100           2   \n",
       "2                   291                31        50           6   \n",
       "3                   128                34        28           0   \n",
       "4                   469               147         0          15   \n",
       "\n",
       "   Estimated_Financial_Loss (Million $)           Cause  \n",
       "0                               2270.57       Lightning  \n",
       "1                               1381.14       Lightning  \n",
       "2                               2421.96  Human Activity  \n",
       "3                               3964.16         Unknown  \n",
       "4                               1800.09         Unknown  "
      ]
     },
     "execution_count": 29,
     "metadata": {},
     "output_type": "execute_result"
    }
   ],
   "source": [
    "data.head(5)"
   ]
  },
  {
   "cell_type": "code",
   "execution_count": 30,
   "metadata": {},
   "outputs": [
    {
     "name": "stdout",
     "output_type": "stream",
     "text": [
      "['Sonoma County' 'Shasta County' 'Butte County' 'San Diego County'\n",
      " 'Napa Valley' 'Riverside County' 'Santa Barbara County'\n",
      " 'Los Angeles County' 'Mendocino County' 'Orange County']\n"
     ]
    }
   ],
   "source": [
    "unique_locations = data['Location'].unique()\n",
    "print(unique_locations)\n"
   ]
  },
  {
   "cell_type": "code",
   "execution_count": 31,
   "metadata": {},
   "outputs": [
    {
     "data": {
      "text/plain": [
       "array(['Lightning', 'Human Activity', 'Unknown'], dtype=object)"
      ]
     },
     "execution_count": 31,
     "metadata": {},
     "output_type": "execute_result"
    }
   ],
   "source": [
    "data['Cause'].unique()\n"
   ]
  },
  {
   "cell_type": "code",
   "execution_count": 32,
   "metadata": {},
   "outputs": [],
   "source": [
    "# Creating dictionary for locations mapping .\n",
    "location_mapping = {\n",
    "    'Sonoma County': 0,\n",
    "    'Shasta County': 1,\n",
    "    'Butte County': 2,\n",
    "    'San Diego County': 3,\n",
    "    'Napa Valley': 4,\n",
    "    'Riverside County': 5,\n",
    "    'Santa Barbara County': 6,\n",
    "    'Los Angeles County': 7,\n",
    "    'Mendocino County': 8,\n",
    "    'Orange County': 9\n",
    "}\n",
    "\n",
    "data['Location'] = data['Location'].map(location_mapping)\n",
    "\n"
   ]
  },
  {
   "cell_type": "code",
   "execution_count": 33,
   "metadata": {},
   "outputs": [
    {
     "data": {
      "text/html": [
       "<div>\n",
       "<style scoped>\n",
       "    .dataframe tbody tr th:only-of-type {\n",
       "        vertical-align: middle;\n",
       "    }\n",
       "\n",
       "    .dataframe tbody tr th {\n",
       "        vertical-align: top;\n",
       "    }\n",
       "\n",
       "    .dataframe thead th {\n",
       "        text-align: right;\n",
       "    }\n",
       "</style>\n",
       "<table border=\"1\" class=\"dataframe\">\n",
       "  <thead>\n",
       "    <tr style=\"text-align: right;\">\n",
       "      <th></th>\n",
       "      <th>Date</th>\n",
       "      <th>Location</th>\n",
       "      <th>Area_Burned (Acres)</th>\n",
       "      <th>Homes_Destroyed</th>\n",
       "      <th>Businesses_Destroyed</th>\n",
       "      <th>Vehicles_Damaged</th>\n",
       "      <th>Injuries</th>\n",
       "      <th>Fatalities</th>\n",
       "      <th>Estimated_Financial_Loss (Million $)</th>\n",
       "      <th>Cause</th>\n",
       "    </tr>\n",
       "  </thead>\n",
       "  <tbody>\n",
       "    <tr>\n",
       "      <th>0</th>\n",
       "      <td>2020-11-22</td>\n",
       "      <td>0</td>\n",
       "      <td>14048</td>\n",
       "      <td>763</td>\n",
       "      <td>474</td>\n",
       "      <td>235</td>\n",
       "      <td>70</td>\n",
       "      <td>19</td>\n",
       "      <td>2270.57</td>\n",
       "      <td>Lightning</td>\n",
       "    </tr>\n",
       "    <tr>\n",
       "      <th>1</th>\n",
       "      <td>2021-09-23</td>\n",
       "      <td>0</td>\n",
       "      <td>33667</td>\n",
       "      <td>1633</td>\n",
       "      <td>4</td>\n",
       "      <td>263</td>\n",
       "      <td>100</td>\n",
       "      <td>2</td>\n",
       "      <td>1381.14</td>\n",
       "      <td>Lightning</td>\n",
       "    </tr>\n",
       "    <tr>\n",
       "      <th>2</th>\n",
       "      <td>2022-02-10</td>\n",
       "      <td>1</td>\n",
       "      <td>26394</td>\n",
       "      <td>915</td>\n",
       "      <td>291</td>\n",
       "      <td>31</td>\n",
       "      <td>50</td>\n",
       "      <td>6</td>\n",
       "      <td>2421.96</td>\n",
       "      <td>Human Activity</td>\n",
       "    </tr>\n",
       "  </tbody>\n",
       "</table>\n",
       "</div>"
      ],
      "text/plain": [
       "         Date  Location  Area_Burned (Acres)  Homes_Destroyed  \\\n",
       "0  2020-11-22         0                14048              763   \n",
       "1  2021-09-23         0                33667             1633   \n",
       "2  2022-02-10         1                26394              915   \n",
       "\n",
       "   Businesses_Destroyed  Vehicles_Damaged  Injuries  Fatalities  \\\n",
       "0                   474               235        70          19   \n",
       "1                     4               263       100           2   \n",
       "2                   291                31        50           6   \n",
       "\n",
       "   Estimated_Financial_Loss (Million $)           Cause  \n",
       "0                               2270.57       Lightning  \n",
       "1                               1381.14       Lightning  \n",
       "2                               2421.96  Human Activity  "
      ]
     },
     "execution_count": 33,
     "metadata": {},
     "output_type": "execute_result"
    }
   ],
   "source": [
    "data.head(3)"
   ]
  },
  {
   "cell_type": "code",
   "execution_count": 34,
   "metadata": {},
   "outputs": [
    {
     "data": {
      "text/plain": [
       "Date                                    0\n",
       "Location                                0\n",
       "Area_Burned (Acres)                     0\n",
       "Homes_Destroyed                         0\n",
       "Businesses_Destroyed                    0\n",
       "Vehicles_Damaged                        0\n",
       "Injuries                                0\n",
       "Fatalities                              0\n",
       "Estimated_Financial_Loss (Million $)    0\n",
       "Cause                                   0\n",
       "dtype: int64"
      ]
     },
     "execution_count": 34,
     "metadata": {},
     "output_type": "execute_result"
    }
   ],
   "source": [
    "data.isnull().sum()"
   ]
  },
  {
   "cell_type": "code",
   "execution_count": null,
   "metadata": {},
   "outputs": [],
   "source": []
  }
 ],
 "metadata": {
  "kernelspec": {
   "display_name": "Python 3",
   "language": "python",
   "name": "python3"
  },
  "language_info": {
   "codemirror_mode": {
    "name": "ipython",
    "version": 3
   },
   "file_extension": ".py",
   "mimetype": "text/x-python",
   "name": "python",
   "nbconvert_exporter": "python",
   "pygments_lexer": "ipython3",
   "version": "3.11.3"
  }
 },
 "nbformat": 4,
 "nbformat_minor": 2
}
